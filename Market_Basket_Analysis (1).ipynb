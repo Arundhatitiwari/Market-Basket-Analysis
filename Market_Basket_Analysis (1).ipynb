{
 "cells": [
  {
   "cell_type": "code",
   "execution_count": null,
   "metadata": {
    "id": "cO7dYO4NsmRv"
   },
   "outputs": [],
   "source": [
    "import numpy as np\n",
    "import pandas as pd\n",
    "import matplotlib.pyplot as plt"
   ]
  },
  {
   "cell_type": "code",
   "execution_count": null,
   "metadata": {
    "id": "hon3iAvCR2aI"
   },
   "outputs": [],
   "source": [
    "data = [['almonds','avocado','energy drink','tomato juice','green tea','salmon'],\n",
    "        ['almonds','red wine','chocolate','avocado','french fries','green tea','salmon'],\n",
    "        ['energy drink','avocado','tomato juice','champagne','chocolate','green tea'],\n",
    "        ['tomato juice','spaghetti','champagne','red wine','shrimp','champagne'],\n",
    "        ['tomato juice','cooking oil','tomato juice','mineral water','green tea'],\n",
    "        ['avocado','chocolate','mineral water','salmon','cooking oil','salmon'],\n",
    "        ['chocolate','green tea','chocolate','champagne','avocado']]"
   ]
  },
  {
   "cell_type": "code",
   "execution_count": null,
   "metadata": {
    "id": "f6CzVfVjWVEW"
   },
   "outputs": [],
   "source": [
    "from mlxtend.preprocessing import TransactionEncoder\n",
    "\n",
    "le = TransactionEncoder()\n",
    "dataset = le.fit(data).transform(data)"
   ]
  },
  {
   "cell_type": "code",
   "execution_count": null,
   "metadata": {
    "colab": {
     "base_uri": "https://localhost:8080/"
    },
    "id": "LH91HtP5Wjxv",
    "outputId": "330b5eec-c332-4ddd-8920-1032b86d022d"
   },
   "outputs": [
    {
     "data": {
      "text/plain": [
       "['almonds',\n",
       " 'avocado',\n",
       " 'champagne',\n",
       " 'chocolate',\n",
       " 'cooking oil',\n",
       " 'energy drink',\n",
       " 'french fries',\n",
       " 'green tea',\n",
       " 'mineral water',\n",
       " 'red wine',\n",
       " 'salmon',\n",
       " 'shrimp',\n",
       " 'spaghetti',\n",
       " 'tomato juice']"
      ]
     },
     "execution_count": 67,
     "metadata": {
      "tags": []
     },
     "output_type": "execute_result"
    }
   ],
   "source": [
    "le.columns_"
   ]
  },
  {
   "cell_type": "code",
   "execution_count": null,
   "metadata": {
    "id": "Cb7DVOP0Wo0h"
   },
   "outputs": [],
   "source": [
    "product_data = pd.DataFrame(dataset, columns = le.columns_)"
   ]
  },
  {
   "cell_type": "code",
   "execution_count": null,
   "metadata": {
    "colab": {
     "base_uri": "https://localhost:8080/",
     "height": 215
    },
    "id": "ZRD61k6sWs-4",
    "outputId": "f4b879ea-4df1-4f14-9f34-863342dc0e29"
   },
   "outputs": [
    {
     "data": {
      "text/html": [
       "<div>\n",
       "<style scoped>\n",
       "    .dataframe tbody tr th:only-of-type {\n",
       "        vertical-align: middle;\n",
       "    }\n",
       "\n",
       "    .dataframe tbody tr th {\n",
       "        vertical-align: top;\n",
       "    }\n",
       "\n",
       "    .dataframe thead th {\n",
       "        text-align: right;\n",
       "    }\n",
       "</style>\n",
       "<table border=\"1\" class=\"dataframe\">\n",
       "  <thead>\n",
       "    <tr style=\"text-align: right;\">\n",
       "      <th></th>\n",
       "      <th>almonds</th>\n",
       "      <th>avocado</th>\n",
       "      <th>champagne</th>\n",
       "      <th>chocolate</th>\n",
       "      <th>cooking oil</th>\n",
       "      <th>energy drink</th>\n",
       "      <th>french fries</th>\n",
       "      <th>green tea</th>\n",
       "      <th>mineral water</th>\n",
       "      <th>red wine</th>\n",
       "      <th>salmon</th>\n",
       "      <th>shrimp</th>\n",
       "      <th>spaghetti</th>\n",
       "      <th>tomato juice</th>\n",
       "    </tr>\n",
       "  </thead>\n",
       "  <tbody>\n",
       "    <tr>\n",
       "      <th>0</th>\n",
       "      <td>True</td>\n",
       "      <td>True</td>\n",
       "      <td>False</td>\n",
       "      <td>False</td>\n",
       "      <td>False</td>\n",
       "      <td>True</td>\n",
       "      <td>False</td>\n",
       "      <td>True</td>\n",
       "      <td>False</td>\n",
       "      <td>False</td>\n",
       "      <td>True</td>\n",
       "      <td>False</td>\n",
       "      <td>False</td>\n",
       "      <td>True</td>\n",
       "    </tr>\n",
       "    <tr>\n",
       "      <th>1</th>\n",
       "      <td>True</td>\n",
       "      <td>True</td>\n",
       "      <td>False</td>\n",
       "      <td>True</td>\n",
       "      <td>False</td>\n",
       "      <td>False</td>\n",
       "      <td>True</td>\n",
       "      <td>True</td>\n",
       "      <td>False</td>\n",
       "      <td>True</td>\n",
       "      <td>True</td>\n",
       "      <td>False</td>\n",
       "      <td>False</td>\n",
       "      <td>False</td>\n",
       "    </tr>\n",
       "    <tr>\n",
       "      <th>2</th>\n",
       "      <td>False</td>\n",
       "      <td>True</td>\n",
       "      <td>True</td>\n",
       "      <td>True</td>\n",
       "      <td>False</td>\n",
       "      <td>True</td>\n",
       "      <td>False</td>\n",
       "      <td>True</td>\n",
       "      <td>False</td>\n",
       "      <td>False</td>\n",
       "      <td>False</td>\n",
       "      <td>False</td>\n",
       "      <td>False</td>\n",
       "      <td>True</td>\n",
       "    </tr>\n",
       "    <tr>\n",
       "      <th>3</th>\n",
       "      <td>False</td>\n",
       "      <td>False</td>\n",
       "      <td>True</td>\n",
       "      <td>False</td>\n",
       "      <td>False</td>\n",
       "      <td>False</td>\n",
       "      <td>False</td>\n",
       "      <td>False</td>\n",
       "      <td>False</td>\n",
       "      <td>True</td>\n",
       "      <td>False</td>\n",
       "      <td>True</td>\n",
       "      <td>True</td>\n",
       "      <td>True</td>\n",
       "    </tr>\n",
       "    <tr>\n",
       "      <th>4</th>\n",
       "      <td>False</td>\n",
       "      <td>False</td>\n",
       "      <td>False</td>\n",
       "      <td>False</td>\n",
       "      <td>True</td>\n",
       "      <td>False</td>\n",
       "      <td>False</td>\n",
       "      <td>True</td>\n",
       "      <td>True</td>\n",
       "      <td>False</td>\n",
       "      <td>False</td>\n",
       "      <td>False</td>\n",
       "      <td>False</td>\n",
       "      <td>True</td>\n",
       "    </tr>\n",
       "  </tbody>\n",
       "</table>\n",
       "</div>"
      ],
      "text/plain": [
       "   almonds  avocado  champagne  chocolate  cooking oil  energy drink  \\\n",
       "0     True     True      False      False        False          True   \n",
       "1     True     True      False       True        False         False   \n",
       "2    False     True       True       True        False          True   \n",
       "3    False    False       True      False        False         False   \n",
       "4    False    False      False      False         True         False   \n",
       "\n",
       "   french fries  green tea  mineral water  red wine  salmon  shrimp  \\\n",
       "0         False       True          False     False    True   False   \n",
       "1          True       True          False      True    True   False   \n",
       "2         False       True          False     False   False   False   \n",
       "3         False      False          False      True   False    True   \n",
       "4         False       True           True     False   False   False   \n",
       "\n",
       "   spaghetti  tomato juice  \n",
       "0      False          True  \n",
       "1      False         False  \n",
       "2      False          True  \n",
       "3       True          True  \n",
       "4      False          True  "
      ]
     },
     "execution_count": 69,
     "metadata": {
      "tags": []
     },
     "output_type": "execute_result"
    }
   ],
   "source": [
    "product_data.head()"
   ]
  },
  {
   "cell_type": "code",
   "execution_count": null,
   "metadata": {
    "colab": {
     "base_uri": "https://localhost:8080/"
    },
    "id": "1QHLqkELWxUN",
    "outputId": "0863091a-1e70-4805-ebc7-791b506f5b66"
   },
   "outputs": [
    {
     "data": {
      "text/plain": [
       "(7, 14)"
      ]
     },
     "execution_count": 70,
     "metadata": {
      "tags": []
     },
     "output_type": "execute_result"
    }
   ],
   "source": [
    "product_data.shape"
   ]
  },
  {
   "cell_type": "code",
   "execution_count": null,
   "metadata": {
    "id": "AEFVCOIGc4-o"
   },
   "outputs": [],
   "source": [
    "pd.set_option('display.max_columns', None)"
   ]
  },
  {
   "cell_type": "code",
   "execution_count": null,
   "metadata": {
    "colab": {
     "base_uri": "https://localhost:8080/"
    },
    "id": "0YdXWLQOcmAa",
    "outputId": "7916d023-5be4-4d4e-bc9f-bd2bcf9f55c8"
   },
   "outputs": [
    {
     "name": "stdout",
     "output_type": "stream",
     "text": [
      "      antecedents     consequents  antecedent support  consequent support  \\\n",
      "1       (almonds)       (avocado)            0.285714            0.714286   \n",
      "4  (french fries)       (almonds)            0.142857            0.285714   \n",
      "7       (almonds)     (green tea)            0.285714            0.714286   \n",
      "2  (energy drink)       (almonds)            0.285714            0.285714   \n",
      "3       (almonds)  (energy drink)            0.285714            0.285714   \n",
      "5       (almonds)  (french fries)            0.285714            0.142857   \n",
      "8      (red wine)       (almonds)            0.285714            0.285714   \n",
      "9       (almonds)      (red wine)            0.285714            0.285714   \n",
      "0       (avocado)       (almonds)            0.714286            0.285714   \n",
      "6     (green tea)       (almonds)            0.714286            0.285714   \n",
      "\n",
      "    support  confidence  lift  leverage  conviction  \n",
      "1  0.285714         1.0  1.40  0.081633         inf  \n",
      "4  0.142857         1.0  3.50  0.102041         inf  \n",
      "7  0.285714         1.0  1.40  0.081633         inf  \n",
      "2  0.142857         0.5  1.75  0.061224    1.428571  \n",
      "3  0.142857         0.5  1.75  0.061224    1.428571  \n",
      "5  0.142857         0.5  3.50  0.102041    1.714286  \n",
      "8  0.142857         0.5  1.75  0.061224    1.428571  \n",
      "9  0.142857         0.5  1.75  0.061224    1.428571  \n",
      "0  0.285714         0.4  1.40  0.081633    1.190476  \n",
      "6  0.285714         0.4  1.40  0.081633    1.190476  \n"
     ]
    }
   ],
   "source": [
    "from mlxtend.frequent_patterns import apriori\n",
    "from mlxtend.frequent_patterns import association_rules\n",
    "\n",
    "\n",
    "# Determining the frequent factors\n",
    "frequent_factors = apriori(product_data, use_colnames = True, min_support = 0.1, max_len = 4)\n",
    "\n",
    "# filtering the factors on the basis of conditions\n",
    "rules = association_rules(frequent_factors, metric ='lift', min_threshold = 1)\n",
    "\n",
    "#Displaying the first 10 records\n",
    "print(rules.head(10).sort_values(by='confidence', ascending = False))"
   ]
  },
  {
   "cell_type": "code",
   "execution_count": null,
   "metadata": {
    "colab": {
     "base_uri": "https://localhost:8080/",
     "height": 228
    },
    "id": "kkwTa2cCg6Ai",
    "outputId": "c9a84b37-d2b7-4765-f39c-c8d6e4a8ce9f"
   },
   "outputs": [
    {
     "data": {
      "text/html": [
       "<div>\n",
       "<style scoped>\n",
       "    .dataframe tbody tr th:only-of-type {\n",
       "        vertical-align: middle;\n",
       "    }\n",
       "\n",
       "    .dataframe tbody tr th {\n",
       "        vertical-align: top;\n",
       "    }\n",
       "\n",
       "    .dataframe thead th {\n",
       "        text-align: right;\n",
       "    }\n",
       "</style>\n",
       "<table border=\"1\" class=\"dataframe\">\n",
       "  <thead>\n",
       "    <tr style=\"text-align: right;\">\n",
       "      <th></th>\n",
       "      <th>support</th>\n",
       "      <th>itemsets</th>\n",
       "    </tr>\n",
       "  </thead>\n",
       "  <tbody>\n",
       "    <tr>\n",
       "      <th>0</th>\n",
       "      <td>0.714286</td>\n",
       "      <td>(avocado)</td>\n",
       "    </tr>\n",
       "    <tr>\n",
       "      <th>1</th>\n",
       "      <td>0.571429</td>\n",
       "      <td>(chocolate)</td>\n",
       "    </tr>\n",
       "    <tr>\n",
       "      <th>2</th>\n",
       "      <td>0.714286</td>\n",
       "      <td>(green tea)</td>\n",
       "    </tr>\n",
       "    <tr>\n",
       "      <th>3</th>\n",
       "      <td>0.571429</td>\n",
       "      <td>(tomato juice)</td>\n",
       "    </tr>\n",
       "    <tr>\n",
       "      <th>4</th>\n",
       "      <td>0.571429</td>\n",
       "      <td>(chocolate, avocado)</td>\n",
       "    </tr>\n",
       "    <tr>\n",
       "      <th>5</th>\n",
       "      <td>0.571429</td>\n",
       "      <td>(green tea, avocado)</td>\n",
       "    </tr>\n",
       "  </tbody>\n",
       "</table>\n",
       "</div>"
      ],
      "text/plain": [
       "    support              itemsets\n",
       "0  0.714286             (avocado)\n",
       "1  0.571429           (chocolate)\n",
       "2  0.714286           (green tea)\n",
       "3  0.571429        (tomato juice)\n",
       "4  0.571429  (chocolate, avocado)\n",
       "5  0.571429  (green tea, avocado)"
      ]
     },
     "execution_count": 78,
     "metadata": {
      "tags": []
     },
     "output_type": "execute_result"
    }
   ],
   "source": [
    "apriori(product_data,use_colnames=True,min_support=0.5)"
   ]
  },
  {
   "cell_type": "code",
   "execution_count": null,
   "metadata": {
    "colab": {
     "base_uri": "https://localhost:8080/",
     "height": 408
    },
    "id": "Pxryrkfhib-g",
    "outputId": "6e31a9c9-83f9-4696-fc93-5a96c33d9119"
   },
   "outputs": [
    {
     "data": {
      "text/html": [
       "<div>\n",
       "<style scoped>\n",
       "    .dataframe tbody tr th:only-of-type {\n",
       "        vertical-align: middle;\n",
       "    }\n",
       "\n",
       "    .dataframe tbody tr th {\n",
       "        vertical-align: top;\n",
       "    }\n",
       "\n",
       "    .dataframe thead th {\n",
       "        text-align: right;\n",
       "    }\n",
       "</style>\n",
       "<table border=\"1\" class=\"dataframe\">\n",
       "  <thead>\n",
       "    <tr style=\"text-align: right;\">\n",
       "      <th></th>\n",
       "      <th>support</th>\n",
       "      <th>itemsets</th>\n",
       "      <th>length</th>\n",
       "    </tr>\n",
       "  </thead>\n",
       "  <tbody>\n",
       "    <tr>\n",
       "      <th>0</th>\n",
       "      <td>0.714286</td>\n",
       "      <td>(avocado)</td>\n",
       "      <td>1</td>\n",
       "    </tr>\n",
       "    <tr>\n",
       "      <th>1</th>\n",
       "      <td>0.428571</td>\n",
       "      <td>(champagne)</td>\n",
       "      <td>1</td>\n",
       "    </tr>\n",
       "    <tr>\n",
       "      <th>2</th>\n",
       "      <td>0.571429</td>\n",
       "      <td>(chocolate)</td>\n",
       "      <td>1</td>\n",
       "    </tr>\n",
       "    <tr>\n",
       "      <th>3</th>\n",
       "      <td>0.714286</td>\n",
       "      <td>(green tea)</td>\n",
       "      <td>1</td>\n",
       "    </tr>\n",
       "    <tr>\n",
       "      <th>4</th>\n",
       "      <td>0.428571</td>\n",
       "      <td>(salmon)</td>\n",
       "      <td>1</td>\n",
       "    </tr>\n",
       "    <tr>\n",
       "      <th>5</th>\n",
       "      <td>0.571429</td>\n",
       "      <td>(tomato juice)</td>\n",
       "      <td>1</td>\n",
       "    </tr>\n",
       "    <tr>\n",
       "      <th>6</th>\n",
       "      <td>0.571429</td>\n",
       "      <td>(chocolate, avocado)</td>\n",
       "      <td>2</td>\n",
       "    </tr>\n",
       "    <tr>\n",
       "      <th>7</th>\n",
       "      <td>0.571429</td>\n",
       "      <td>(green tea, avocado)</td>\n",
       "      <td>2</td>\n",
       "    </tr>\n",
       "    <tr>\n",
       "      <th>8</th>\n",
       "      <td>0.428571</td>\n",
       "      <td>(avocado, salmon)</td>\n",
       "      <td>2</td>\n",
       "    </tr>\n",
       "    <tr>\n",
       "      <th>9</th>\n",
       "      <td>0.428571</td>\n",
       "      <td>(green tea, chocolate)</td>\n",
       "      <td>2</td>\n",
       "    </tr>\n",
       "    <tr>\n",
       "      <th>10</th>\n",
       "      <td>0.428571</td>\n",
       "      <td>(green tea, tomato juice)</td>\n",
       "      <td>2</td>\n",
       "    </tr>\n",
       "    <tr>\n",
       "      <th>11</th>\n",
       "      <td>0.428571</td>\n",
       "      <td>(green tea, chocolate, avocado)</td>\n",
       "      <td>3</td>\n",
       "    </tr>\n",
       "  </tbody>\n",
       "</table>\n",
       "</div>"
      ],
      "text/plain": [
       "     support                         itemsets  length\n",
       "0   0.714286                        (avocado)       1\n",
       "1   0.428571                      (champagne)       1\n",
       "2   0.571429                      (chocolate)       1\n",
       "3   0.714286                      (green tea)       1\n",
       "4   0.428571                         (salmon)       1\n",
       "5   0.571429                   (tomato juice)       1\n",
       "6   0.571429             (chocolate, avocado)       2\n",
       "7   0.571429             (green tea, avocado)       2\n",
       "8   0.428571                (avocado, salmon)       2\n",
       "9   0.428571           (green tea, chocolate)       2\n",
       "10  0.428571        (green tea, tomato juice)       2\n",
       "11  0.428571  (green tea, chocolate, avocado)       3"
      ]
     },
     "execution_count": 92,
     "metadata": {
      "tags": []
     },
     "output_type": "execute_result"
    }
   ],
   "source": [
    "frequent_itemsets=apriori(product_data,min_support=0.3,use_colnames=True)\n",
    "frequent_itemsets['length']=frequent_itemsets['itemsets'].apply(lambda x:len(x))\n",
    "frequent_itemsets"
   ]
  },
  {
   "cell_type": "code",
   "execution_count": null,
   "metadata": {
    "colab": {
     "base_uri": "https://localhost:8080/",
     "height": 228
    },
    "id": "nW4a4zy1hkrI",
    "outputId": "e1caaae6-094f-410c-906d-cbc17d7c61a6"
   },
   "outputs": [
    {
     "data": {
      "text/html": [
       "<div>\n",
       "<style scoped>\n",
       "    .dataframe tbody tr th:only-of-type {\n",
       "        vertical-align: middle;\n",
       "    }\n",
       "\n",
       "    .dataframe tbody tr th {\n",
       "        vertical-align: top;\n",
       "    }\n",
       "\n",
       "    .dataframe thead th {\n",
       "        text-align: right;\n",
       "    }\n",
       "</style>\n",
       "<table border=\"1\" class=\"dataframe\">\n",
       "  <thead>\n",
       "    <tr style=\"text-align: right;\">\n",
       "      <th></th>\n",
       "      <th>support</th>\n",
       "      <th>itemsets</th>\n",
       "      <th>length</th>\n",
       "    </tr>\n",
       "  </thead>\n",
       "  <tbody>\n",
       "    <tr>\n",
       "      <th>6</th>\n",
       "      <td>0.571429</td>\n",
       "      <td>(chocolate, avocado)</td>\n",
       "      <td>2</td>\n",
       "    </tr>\n",
       "    <tr>\n",
       "      <th>7</th>\n",
       "      <td>0.571429</td>\n",
       "      <td>(green tea, avocado)</td>\n",
       "      <td>2</td>\n",
       "    </tr>\n",
       "    <tr>\n",
       "      <th>8</th>\n",
       "      <td>0.428571</td>\n",
       "      <td>(avocado, salmon)</td>\n",
       "      <td>2</td>\n",
       "    </tr>\n",
       "    <tr>\n",
       "      <th>9</th>\n",
       "      <td>0.428571</td>\n",
       "      <td>(green tea, chocolate)</td>\n",
       "      <td>2</td>\n",
       "    </tr>\n",
       "    <tr>\n",
       "      <th>10</th>\n",
       "      <td>0.428571</td>\n",
       "      <td>(green tea, tomato juice)</td>\n",
       "      <td>2</td>\n",
       "    </tr>\n",
       "    <tr>\n",
       "      <th>11</th>\n",
       "      <td>0.428571</td>\n",
       "      <td>(green tea, chocolate, avocado)</td>\n",
       "      <td>3</td>\n",
       "    </tr>\n",
       "  </tbody>\n",
       "</table>\n",
       "</div>"
      ],
      "text/plain": [
       "     support                         itemsets  length\n",
       "6   0.571429             (chocolate, avocado)       2\n",
       "7   0.571429             (green tea, avocado)       2\n",
       "8   0.428571                (avocado, salmon)       2\n",
       "9   0.428571           (green tea, chocolate)       2\n",
       "10  0.428571        (green tea, tomato juice)       2\n",
       "11  0.428571  (green tea, chocolate, avocado)       3"
      ]
     },
     "execution_count": 93,
     "metadata": {
      "tags": []
     },
     "output_type": "execute_result"
    }
   ],
   "source": [
    "frequent_itemsets[(frequent_itemsets['length']>=2)&(frequent_itemsets['support']>=0.4)]"
   ]
  },
  {
   "cell_type": "code",
   "execution_count": null,
   "metadata": {
    "colab": {
     "base_uri": "https://localhost:8080/",
     "height": 78
    },
    "id": "Pcw5SuTliapS",
    "outputId": "4921e702-3906-42de-c0d3-b7494449fccb"
   },
   "outputs": [
    {
     "data": {
      "text/html": [
       "<div>\n",
       "<style scoped>\n",
       "    .dataframe tbody tr th:only-of-type {\n",
       "        vertical-align: middle;\n",
       "    }\n",
       "\n",
       "    .dataframe tbody tr th {\n",
       "        vertical-align: top;\n",
       "    }\n",
       "\n",
       "    .dataframe thead th {\n",
       "        text-align: right;\n",
       "    }\n",
       "</style>\n",
       "<table border=\"1\" class=\"dataframe\">\n",
       "  <thead>\n",
       "    <tr style=\"text-align: right;\">\n",
       "      <th></th>\n",
       "      <th>support</th>\n",
       "      <th>itemsets</th>\n",
       "      <th>length</th>\n",
       "    </tr>\n",
       "  </thead>\n",
       "  <tbody>\n",
       "    <tr>\n",
       "      <th>9</th>\n",
       "      <td>0.428571</td>\n",
       "      <td>(green tea, chocolate)</td>\n",
       "      <td>2</td>\n",
       "    </tr>\n",
       "  </tbody>\n",
       "</table>\n",
       "</div>"
      ],
      "text/plain": [
       "    support                itemsets  length\n",
       "9  0.428571  (green tea, chocolate)       2"
      ]
     },
     "execution_count": 95,
     "metadata": {
      "tags": []
     },
     "output_type": "execute_result"
    }
   ],
   "source": [
    "frequent_itemsets[(frequent_itemsets['itemsets']=={'green tea','chocolate'})]"
   ]
  },
  {
   "cell_type": "code",
   "execution_count": null,
   "metadata": {
    "colab": {
     "base_uri": "https://localhost:8080/",
     "height": 348
    },
    "id": "tr5snIh1iHnO",
    "outputId": "9e0c0e9f-3d05-4118-e811-8846aa987749"
   },
   "outputs": [
    {
     "data": {
      "text/html": [
       "<div>\n",
       "<style scoped>\n",
       "    .dataframe tbody tr th:only-of-type {\n",
       "        vertical-align: middle;\n",
       "    }\n",
       "\n",
       "    .dataframe tbody tr th {\n",
       "        vertical-align: top;\n",
       "    }\n",
       "\n",
       "    .dataframe thead th {\n",
       "        text-align: right;\n",
       "    }\n",
       "</style>\n",
       "<table border=\"1\" class=\"dataframe\">\n",
       "  <thead>\n",
       "    <tr style=\"text-align: right;\">\n",
       "      <th></th>\n",
       "      <th>antecedents</th>\n",
       "      <th>consequents</th>\n",
       "      <th>antecedent support</th>\n",
       "      <th>consequent support</th>\n",
       "      <th>support</th>\n",
       "      <th>confidence</th>\n",
       "      <th>lift</th>\n",
       "      <th>leverage</th>\n",
       "      <th>conviction</th>\n",
       "    </tr>\n",
       "  </thead>\n",
       "  <tbody>\n",
       "    <tr>\n",
       "      <th>7</th>\n",
       "      <td>(almonds)</td>\n",
       "      <td>(green tea)</td>\n",
       "      <td>0.285714</td>\n",
       "      <td>0.714286</td>\n",
       "      <td>0.285714</td>\n",
       "      <td>1.0</td>\n",
       "      <td>1.4</td>\n",
       "      <td>0.081633</td>\n",
       "      <td>inf</td>\n",
       "    </tr>\n",
       "    <tr>\n",
       "      <th>867</th>\n",
       "      <td>(french fries, almonds, salmon)</td>\n",
       "      <td>(green tea)</td>\n",
       "      <td>0.142857</td>\n",
       "      <td>0.714286</td>\n",
       "      <td>0.142857</td>\n",
       "      <td>1.0</td>\n",
       "      <td>1.4</td>\n",
       "      <td>0.040816</td>\n",
       "      <td>inf</td>\n",
       "    </tr>\n",
       "    <tr>\n",
       "      <th>1020</th>\n",
       "      <td>(energy drink, chocolate, avocado)</td>\n",
       "      <td>(green tea)</td>\n",
       "      <td>0.142857</td>\n",
       "      <td>0.714286</td>\n",
       "      <td>0.142857</td>\n",
       "      <td>1.0</td>\n",
       "      <td>1.4</td>\n",
       "      <td>0.040816</td>\n",
       "      <td>inf</td>\n",
       "    </tr>\n",
       "    <tr>\n",
       "      <th>986</th>\n",
       "      <td>(avocado, tomato juice, champagne)</td>\n",
       "      <td>(green tea)</td>\n",
       "      <td>0.142857</td>\n",
       "      <td>0.714286</td>\n",
       "      <td>0.142857</td>\n",
       "      <td>1.0</td>\n",
       "      <td>1.4</td>\n",
       "      <td>0.040816</td>\n",
       "      <td>inf</td>\n",
       "    </tr>\n",
       "    <tr>\n",
       "      <th>958</th>\n",
       "      <td>(energy drink, avocado, champagne)</td>\n",
       "      <td>(green tea)</td>\n",
       "      <td>0.142857</td>\n",
       "      <td>0.714286</td>\n",
       "      <td>0.142857</td>\n",
       "      <td>1.0</td>\n",
       "      <td>1.4</td>\n",
       "      <td>0.040816</td>\n",
       "      <td>inf</td>\n",
       "    </tr>\n",
       "    <tr>\n",
       "      <th>935</th>\n",
       "      <td>(chocolate, avocado, champagne)</td>\n",
       "      <td>(green tea)</td>\n",
       "      <td>0.285714</td>\n",
       "      <td>0.714286</td>\n",
       "      <td>0.285714</td>\n",
       "      <td>1.0</td>\n",
       "      <td>1.4</td>\n",
       "      <td>0.081633</td>\n",
       "      <td>inf</td>\n",
       "    </tr>\n",
       "    <tr>\n",
       "      <th>908</th>\n",
       "      <td>(salmon, almonds, tomato juice)</td>\n",
       "      <td>(green tea)</td>\n",
       "      <td>0.142857</td>\n",
       "      <td>0.714286</td>\n",
       "      <td>0.142857</td>\n",
       "      <td>1.0</td>\n",
       "      <td>1.4</td>\n",
       "      <td>0.040816</td>\n",
       "      <td>inf</td>\n",
       "    </tr>\n",
       "    <tr>\n",
       "      <th>895</th>\n",
       "      <td>(red wine, almonds, salmon)</td>\n",
       "      <td>(green tea)</td>\n",
       "      <td>0.142857</td>\n",
       "      <td>0.714286</td>\n",
       "      <td>0.142857</td>\n",
       "      <td>1.0</td>\n",
       "      <td>1.4</td>\n",
       "      <td>0.040816</td>\n",
       "      <td>inf</td>\n",
       "    </tr>\n",
       "    <tr>\n",
       "      <th>853</th>\n",
       "      <td>(red wine, french fries, almonds)</td>\n",
       "      <td>(green tea)</td>\n",
       "      <td>0.142857</td>\n",
       "      <td>0.714286</td>\n",
       "      <td>0.142857</td>\n",
       "      <td>1.0</td>\n",
       "      <td>1.4</td>\n",
       "      <td>0.040816</td>\n",
       "      <td>inf</td>\n",
       "    </tr>\n",
       "    <tr>\n",
       "      <th>1085</th>\n",
       "      <td>(chocolate, avocado, red wine)</td>\n",
       "      <td>(green tea)</td>\n",
       "      <td>0.142857</td>\n",
       "      <td>0.714286</td>\n",
       "      <td>0.142857</td>\n",
       "      <td>1.0</td>\n",
       "      <td>1.4</td>\n",
       "      <td>0.040816</td>\n",
       "      <td>inf</td>\n",
       "    </tr>\n",
       "  </tbody>\n",
       "</table>\n",
       "</div>"
      ],
      "text/plain": [
       "                             antecedents  consequents  antecedent support  \\\n",
       "7                              (almonds)  (green tea)            0.285714   \n",
       "867      (french fries, almonds, salmon)  (green tea)            0.142857   \n",
       "1020  (energy drink, chocolate, avocado)  (green tea)            0.142857   \n",
       "986   (avocado, tomato juice, champagne)  (green tea)            0.142857   \n",
       "958   (energy drink, avocado, champagne)  (green tea)            0.142857   \n",
       "935      (chocolate, avocado, champagne)  (green tea)            0.285714   \n",
       "908      (salmon, almonds, tomato juice)  (green tea)            0.142857   \n",
       "895          (red wine, almonds, salmon)  (green tea)            0.142857   \n",
       "853    (red wine, french fries, almonds)  (green tea)            0.142857   \n",
       "1085      (chocolate, avocado, red wine)  (green tea)            0.142857   \n",
       "\n",
       "      consequent support   support  confidence  lift  leverage  conviction  \n",
       "7               0.714286  0.285714         1.0   1.4  0.081633         inf  \n",
       "867             0.714286  0.142857         1.0   1.4  0.040816         inf  \n",
       "1020            0.714286  0.142857         1.0   1.4  0.040816         inf  \n",
       "986             0.714286  0.142857         1.0   1.4  0.040816         inf  \n",
       "958             0.714286  0.142857         1.0   1.4  0.040816         inf  \n",
       "935             0.714286  0.285714         1.0   1.4  0.081633         inf  \n",
       "908             0.714286  0.142857         1.0   1.4  0.040816         inf  \n",
       "895             0.714286  0.142857         1.0   1.4  0.040816         inf  \n",
       "853             0.714286  0.142857         1.0   1.4  0.040816         inf  \n",
       "1085            0.714286  0.142857         1.0   1.4  0.040816         inf  "
      ]
     },
     "execution_count": 97,
     "metadata": {
      "tags": []
     },
     "output_type": "execute_result"
    }
   ],
   "source": [
    "target='{\\'green tea\\'}'\n",
    "result_greentea=rules[rules['consequents'].astype(str).str.contains(target,na=False)].sort_values(by='confidence',ascending=False)\n",
    "result_greentea.head(10)"
   ]
  },
  {
   "cell_type": "code",
   "execution_count": null,
   "metadata": {
    "id": "cAdEY0URn6oU"
   },
   "outputs": [],
   "source": []
  }
 ],
 "metadata": {
  "colab": {
   "name": "Market Basket Analysis.ipynb",
   "provenance": []
  },
  "kernelspec": {
   "display_name": "Python 3",
   "language": "python",
   "name": "python3"
  },
  "language_info": {
   "codemirror_mode": {
    "name": "ipython",
    "version": 3
   },
   "file_extension": ".py",
   "mimetype": "text/x-python",
   "name": "python",
   "nbconvert_exporter": "python",
   "pygments_lexer": "ipython3",
   "version": "3.8.3"
  }
 },
 "nbformat": 4,
 "nbformat_minor": 1
}
